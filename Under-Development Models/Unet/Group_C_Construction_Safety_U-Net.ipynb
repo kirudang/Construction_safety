{
 "cells": [
  {
   "cell_type": "markdown",
   "metadata": {
    "id": "pgUc-0UwsbIk"
   },
   "source": [
    "# Set GPU ( Not necessary )\n",
    "\n",
    "Let's make sure that we have access to GPU. We can use `nvidia-smi` command to do that. In case of any problems navigate to `Edit` -> `Notebook settings` -> `Hardware accelerator`, set it to `GPU`, and then click `Save`."
   ]
  },
  {
   "cell_type": "code",
   "execution_count": 1,
   "metadata": {
    "colab": {
     "base_uri": "https://localhost:8080/"
    },
    "id": "0xVAAraYsXNy",
    "outputId": "46af24f0-8dac-4e9a-94a6-6b7b431a546b"
   },
   "outputs": [
    {
     "name": "stdout",
     "output_type": "stream",
     "text": [
      "Tue Jun 13 06:46:17 2023       \n",
      "+-----------------------------------------------------------------------------+\n",
      "| NVIDIA-SMI 442.23       Driver Version: 442.23       CUDA Version: 10.2     |\n",
      "|-------------------------------+----------------------+----------------------+\n",
      "| GPU  Name            TCC/WDDM | Bus-Id        Disp.A | Volatile Uncorr. ECC |\n",
      "| Fan  Temp  Perf  Pwr:Usage/Cap|         Memory-Usage | GPU-Util  Compute M. |\n",
      "|===============================+======================+======================|\n",
      "|   0  GeForce GTX 166... WDDM  | 00000000:01:00.0 Off |                  N/A |\n",
      "| N/A   55C    P8    12W /  N/A |    153MiB /  6144MiB |      0%      Default |\n",
      "+-------------------------------+----------------------+----------------------+\n",
      "                                                                               \n",
      "+-----------------------------------------------------------------------------+\n",
      "| Processes:                                                       GPU Memory |\n",
      "|  GPU       PID   Type   Process name                             Usage      |\n",
      "|=============================================================================|\n",
      "|  No running processes found                                                 |\n",
      "+-----------------------------------------------------------------------------+\n"
     ]
    }
   ],
   "source": [
    "# Check if we have the access to GPU\n",
    "!nvidia-smi"
   ]
  },
  {
   "cell_type": "markdown",
   "metadata": {
    "id": "dgXdcF0r6snY"
   },
   "source": [
    "# U-Net"
   ]
  },
  {
   "cell_type": "code",
   "execution_count": 13,
   "metadata": {},
   "outputs": [],
   "source": [
    "import tensorflow as tf\n",
    "from tensorflow import keras\n",
    "from tensorflow.keras import layers\n",
    "import tensorflow_datasets as tfds\n",
    "import matplotlib.pyplot as plt\n",
    "import numpy as np"
   ]
  },
  {
   "cell_type": "code",
   "execution_count": null,
   "metadata": {},
   "outputs": [],
   "source": [
    "# Download data (from snipet code on Roboflow)\n",
    "!pip install roboflow\n",
    "\n",
    "from roboflow import Roboflow\n",
    "rf = Roboflow(api_key=\"bvgx6NFEHR0zZurL8c9w\")\n",
    "project = rf.workspace(\"northeastern-4sfxe\").project(\"open-hole-detection-construction-safety\")"
   ]
  },
  {
   "cell_type": "code",
   "execution_count": null,
   "metadata": {},
   "outputs": [],
   "source": [
    "dataset, info = tfds.load(project, with_info=True) # load dataset and info"
   ]
  },
  {
   "cell_type": "markdown",
   "metadata": {},
   "source": [
    "## Data transformation"
   ]
  },
  {
   "cell_type": "code",
   "execution_count": null,
   "metadata": {},
   "outputs": [],
   "source": [
    "def resize(input_image, input_mask): # resize all to 128*128 \n",
    "   input_image = tf.image.resize(input_image, (128, 128), method=\"nearest\")\n",
    "   input_mask = tf.image.resize(input_mask, (128, 128), method=\"nearest\")\n",
    "   return input_image, input_mask\n",
    "\n",
    "def augment(input_image, input_mask): # augment, in this horizontal flip\n",
    "   if tf.random.uniform(()) > 0.5:\n",
    "       # Random flipping of the image and mask\n",
    "       input_image = tf.image.flip_left_right(input_image)\n",
    "       input_mask = tf.image.flip_left_right(input_mask)\n",
    "   return input_image, input_mask\n",
    "\n",
    "def normalize(input_image, input_mask): # normalized in range -1, 1\n",
    "   input_image = tf.cast(input_image, tf.float32) / 255.0\n",
    "   input_mask -= 1\n",
    "   return input_image, input_mask\n",
    "\n",
    "def load_image_train(datapoint): # Data tranformation on train set\n",
    "   input_image = datapoint[\"image\"]\n",
    "   input_mask = datapoint[\"segmentation_mask\"]\n",
    "   input_image, input_mask = resize(input_image, input_mask)\n",
    "   input_image, input_mask = augment(input_image, input_mask)\n",
    "   input_image, input_mask = normalize(input_image, input_mask)\n",
    "   return input_image, input_mask\n",
    "\n",
    "def load_image_test(datapoint): # Data tranformation on test set\n",
    "   input_image = datapoint[\"image\"]\n",
    "   input_mask = datapoint[\"segmentation_mask\"]\n",
    "   input_image, input_mask = resize(input_image, input_mask)\n",
    "   input_image, input_mask = normalize(input_image, input_mask)\n",
    "   return input_image, input_mask"
   ]
  },
  {
   "cell_type": "code",
   "execution_count": null,
   "metadata": {},
   "outputs": [],
   "source": [
    "train_dataset = dataset[\"train\"].map(load_image_train, num_parallel_calls=tf.data.AUTOTUNE) # trainn pipeline\n",
    "test_dataset = dataset[\"test\"].map(load_image_test, num_parallel_calls=tf.data.AUTOTUNE) # test pipeline"
   ]
  },
  {
   "cell_type": "markdown",
   "metadata": {},
   "source": [
    "## Splitting the Data"
   ]
  },
  {
   "cell_type": "code",
   "execution_count": null,
   "metadata": {},
   "outputs": [],
   "source": [
    "BATCH_SIZE = 64\n",
    "BUFFER_SIZE = 1000\n",
    "train_batches = train_dataset.cache().shuffle(BUFFER_SIZE).batch(BATCH_SIZE).repeat()\n",
    "train_batches = train_batches.prefetch(buffer_size=tf.data.experimental.AUTOTUNE)\n",
    "validation_batches = test_dataset.take(3000).batch(BATCH_SIZE)\n",
    "test_batches = test_dataset.skip(3000).take(669).batch(BATCH_SIZE)"
   ]
  },
  {
   "cell_type": "code",
   "execution_count": null,
   "metadata": {},
   "outputs": [],
   "source": [
    "def display(display_list): # sample output\n",
    " plt.figure(figsize=(15, 15))\n",
    " title = [\"Input Image\", \"True Mask\", \"Predicted Mask\"]\n",
    " for i in range(len(display_list)):\n",
    "   plt.subplot(1, len(display_list), i+1)\n",
    "   plt.title(title[i])\n",
    "   plt.imshow(tf.keras.utils.array_to_img(display_list[i]))\n",
    "   plt.axis(\"off\")\n",
    " plt.show()\n",
    "sample_batch = next(iter(train_batches))\n",
    "random_index = np.random.choice(sample_batch[0].shape[0])\n",
    "sample_image, sample_mask = sample_batch[0][random_index], sample_batch[1][random_index]\n",
    "display([sample_image, sample_mask])"
   ]
  },
  {
   "cell_type": "markdown",
   "metadata": {},
   "source": [
    "## Model Architecture"
   ]
  },
  {
   "cell_type": "code",
   "execution_count": null,
   "metadata": {},
   "outputs": [],
   "source": [
    "def double_conv_block(x, n_filters): # double_conv_block with layers Conv2D-ReLU-Conv2D-ReLU, which we will use in both the encoder (or the contracting path) and the bottleneck of the U-Net.\n",
    "   # Conv2D then ReLU activation\n",
    "   x = layers.Conv2D(n_filters, 3, padding = \"same\", activation = \"relu\", kernel_initializer = \"he_normal\")(x)\n",
    "   # Conv2D then ReLU activation\n",
    "   x = layers.Conv2D(n_filters, 3, padding = \"same\", activation = \"relu\", kernel_initializer = \"he_normal\")(x)\n",
    "   return x"
   ]
  },
  {
   "cell_type": "code",
   "execution_count": null,
   "metadata": {},
   "outputs": [],
   "source": [
    "def downsample_block(x, n_filters): # function for downsampling or feature extraction to be used in the encoder.\n",
    "   f = double_conv_block(x, n_filters)\n",
    "   p = layers.MaxPool2D(2)(f)\n",
    "   p = layers.Dropout(0.3)(p)\n",
    "   return f, p"
   ]
  },
  {
   "cell_type": "code",
   "execution_count": null,
   "metadata": {},
   "outputs": [],
   "source": [
    "def upsample_block(x, conv_features, n_filters): # for the decoder (or expanding path) of the U-Net.\n",
    "   # upsample\n",
    "   x = layers.Conv2DTranspose(n_filters, 3, 2, padding=\"same\")(x)\n",
    "   # concatenate\n",
    "   x = layers.concatenate([x, conv_features])\n",
    "   # dropout\n",
    "   x = layers.Dropout(0.3)(x)\n",
    "   # Conv2D twice with ReLU activation\n",
    "   x = double_conv_block(x, n_filters)\n",
    "   return x"
   ]
  },
  {
   "cell_type": "markdown",
   "metadata": {},
   "source": [
    "## Model"
   ]
  },
  {
   "cell_type": "code",
   "execution_count": null,
   "metadata": {},
   "outputs": [],
   "source": [
    " # inputs\n",
    "   inputs = layers.Input(shape=(128,128,3))\n",
    "   # encoder: contracting path - downsample\n",
    "   # 1 - downsample\n",
    "   f1, p1 = downsample_block(inputs, 64)\n",
    "   # 2 - downsample\n",
    "   f2, p2 = downsample_block(p1, 128)\n",
    "   # 3 - downsample\n",
    "   f3, p3 = downsample_block(p2, 256)\n",
    "   # 4 - downsample\n",
    "   f4, p4 = downsample_block(p3, 512)\n",
    "   # 5 - bottleneck\n",
    "   bottleneck = double_conv_block(p4, 1024)\n",
    "   # decoder: expanding path - upsample\n",
    "   # 6 - upsample\n",
    "   u6 = upsample_block(bottleneck, f4, 512)\n",
    "   # 7 - upsample\n",
    "   u7 = upsample_block(u6, f3, 256)\n",
    "   # 8 - upsample\n",
    "   u8 = upsample_block(u7, f2, 128)\n",
    "   # 9 - upsample\n",
    "   u9 = upsample_block(u8, f1, 64)\n",
    "   # outputs\n",
    "   outputs = layers.Conv2D(3, 1, padding=\"same\", activation = \"softmax\")(u9)\n",
    "   # unet model with Keras Functional API\n",
    "   unet_model = tf.keras.Model(inputs, outputs, name=\"U-Net\")\n",
    "   return unet_model"
   ]
  },
  {
   "cell_type": "code",
   "execution_count": null,
   "metadata": {},
   "outputs": [],
   "source": [
    "unet_model = build_unet_model()"
   ]
  },
  {
   "cell_type": "markdown",
   "metadata": {},
   "source": [
    "## Compile and Train U-Net"
   ]
  },
  {
   "cell_type": "code",
   "execution_count": null,
   "metadata": {},
   "outputs": [],
   "source": [
    "# To compile unet_model, we specify the optimizer, the loss function, and the accuracy metrics to track during training\n",
    "unet_model.compile(optimizer=tf.keras.optimizers.Adam(),\n",
    "                  loss=\"sparse_categorical_crossentropy\",\n",
    "                  metrics=\"accuracy\")"
   ]
  },
  {
   "cell_type": "code",
   "execution_count": null,
   "metadata": {},
   "outputs": [],
   "source": [
    "NUM_EPOCHS = 20\n",
    "TRAIN_LENGTH = info.splits[\"train\"].num_examples\n",
    "STEPS_PER_EPOCH = TRAIN_LENGTH // BATCH_SIZE\n",
    "VAL_SUBSPLITS = 5\n",
    "TEST_LENTH = info.splits[\"test\"].num_examples\n",
    "VALIDATION_STEPS = TEST_LENTH // BATCH_SIZE // VAL_SUBSPLITS\n",
    "model_history = unet_model.fit(train_batches,\n",
    "                              epochs=NUM_EPOCHS,\n",
    "                              steps_per_epoch=STEPS_PER_EPOCH,\n",
    "                              validation_steps=VALIDATION_STEPS,\n",
    "                              validation_data=test_batches)"
   ]
  },
  {
   "cell_type": "markdown",
   "metadata": {},
   "source": [
    "## Prediction"
   ]
  },
  {
   "cell_type": "code",
   "execution_count": null,
   "metadata": {},
   "outputs": [],
   "source": [
    "def create_mask(pred_mask):\n",
    " pred_mask = tf.argmax(pred_mask, axis=-1)\n",
    " pred_mask = pred_mask[..., tf.newaxis]\n",
    " return pred_mask[0]\n",
    "def show_predictions(dataset=None, num=1):\n",
    " if dataset:\n",
    "   for image, mask in dataset.take(num):\n",
    "     pred_mask = unet_model.predict(image)\n",
    "     display([image[0], mask[0], create_mask(pred_mask)])\n",
    " else:\n",
    "   display([sample_image, sample_mask,\n",
    "            create_mask(model.predict(sample_image[tf.newaxis, ...]))])\n",
    "count = 0\n",
    "for i in test_batches:\n",
    "   count +=1\n",
    "print(\"number of batches:\", count)"
   ]
  }
 ],
 "metadata": {
  "accelerator": "GPU",
  "colab": {
   "gpuType": "T4",
   "provenance": []
  },
  "gpuClass": "standard",
  "kernelspec": {
   "display_name": "Python 3 (ipykernel)",
   "language": "python",
   "name": "python3"
  },
  "language_info": {
   "codemirror_mode": {
    "name": "ipython",
    "version": 3
   },
   "file_extension": ".py",
   "mimetype": "text/x-python",
   "name": "python",
   "nbconvert_exporter": "python",
   "pygments_lexer": "ipython3",
   "version": "3.10.9"
  }
 },
 "nbformat": 4,
 "nbformat_minor": 1
}
